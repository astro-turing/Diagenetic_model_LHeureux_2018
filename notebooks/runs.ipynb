{
 "cells": [
  {
   "cell_type": "code",
   "execution_count": 1,
   "metadata": {},
   "outputs": [],
   "source": [
    "from marlpde import (write_input_cfg, Solver, Scenario, run_marl_pde, output_data, units)\n",
    "from pathlib import Path\n",
    "import numpy as np"
   ]
  },
  {
   "cell_type": "code",
   "execution_count": 2,
   "metadata": {},
   "outputs": [],
   "source": [
    "from matplotlib import pyplot as plt"
   ]
  },
  {
   "cell_type": "code",
   "execution_count": 13,
   "metadata": {},
   "outputs": [],
   "source": [
    "path = Path(\"./scenario-a\")\n",
    "build = Path(\"../../build/\")\n",
    "write_input_cfg(path, Solver(N=200, tmax=200_000, dt=5e-6), Scenario())"
   ]
  },
  {
   "cell_type": "code",
   "execution_count": 14,
   "metadata": {
    "tags": []
   },
   "outputs": [
    {
     "name": "stdout",
     "output_type": "stream",
     "text": [
      " Xs (cm), Ts (a)   1319.0000000000000        13190.000000000000     \n",
      " dt,dx,dtS/dx =   5.0000000000000004E-006   1.8953752843062926E-003   2.6380000000000002E-003\n",
      " dx^2/2d=   8.6911926096216638E-007\n",
      " scale for MA, MC =  0.68609610165703516       0.34304805082851764     \n",
      " scale for c=   6.5313055264747230E-004\n",
      " Damkohler number Da=, scaled sedimentation rate,rhos0/rhow=   13190.000000000000        1.0000000000000000        2.7944611504440995     \n",
      " scaled length, position of dissolution zone=  0.37907505686125853        3.7907505686125852E-002  0.11372251705837756     \n",
      " a/Xs,b/Xs, rhosw-1=  0.26535253528395414        3.7907505686125852E-002   1.7944611504440995     \n",
      " 1/cXs,Dpor/Dca=   3.7772920769424401E-003   1.3828730315585877E-003\n",
      " doing t=  0.25000000000000000     \n",
      " doing t=  0.50000000000000000     \n",
      " doing t=  0.75000000000000011     \n",
      " doing t=   1.0000000000000000     \n",
      " fini\n"
     ]
    },
    {
     "name": "stderr",
     "output_type": "stream",
     "text": [
      "STOP marl\n"
     ]
    }
   ],
   "source": [
    "run_marl_pde(path, build)"
   ]
  },
  {
   "cell_type": "code",
   "execution_count": 21,
   "metadata": {},
   "outputs": [
    {
     "data": {
      "image/png": "[encoded data removed]",
      "text/plain": [
       "<Figure size 640x480 with 1 Axes>"
      ]
     },
     "metadata": {},
     "output_type": "display_data"
    }
   ],
   "source": [
    "with output_data(path) as output:\n",
    "    plt.plot(np.linspace(0, 500, 200), output[\"calcite\"][:,10])"
   ]
  },
  {
   "cell_type": "code",
   "execution_count": 4,
   "metadata": {},
   "outputs": [],
   "source": [
    "s = Scenario()"
   ]
  },
  {
   "cell_type": "code",
   "execution_count": 20,
   "metadata": {},
   "outputs": [
    {
     "data": {
      "text/plain": [
       "5"
      ]
     },
     "execution_count": 20,
     "metadata": {},
     "output_type": "execute_result"
    }
   ],
   "source": [
    "s.cAthy"
   ]
  },
  {
   "cell_type": "code",
   "execution_count": 21,
   "metadata": {},
   "outputs": [
    {
     "data": {
      "text/plain": [
       "0.6"
      ]
     },
     "execution_count": 21,
     "metadata": {},
     "output_type": "execute_result"
    }
   ],
   "source": [
    "s.phi0"
   ]
  },
  {
   "cell_type": "code",
   "execution_count": 7,
   "metadata": {},
   "outputs": [],
   "source": [
    "def F(phi):\n",
    "    return 1 - np.exp(-10 * (1 - phi) / phi)"
   ]
  },
  {
   "cell_type": "code",
   "execution_count": 8,
   "metadata": {},
   "outputs": [
    {
     "data": {
      "text/html": [
       "0.9987273661986602 dimensionless"
      ],
      "text/latex": [
       "$0.9987273661986602\\ dimensionless$"
      ],
      "text/plain": [
       "0.9987273661986602 <Unit('dimensionless')>"
      ]
     },
     "execution_count": 8,
     "metadata": {},
     "output_type": "execute_result"
    }
   ],
   "source": [
    "F(s.phi0)"
   ]
  },
  {
   "cell_type": "code",
   "execution_count": 11,
   "metadata": {},
   "outputs": [],
   "source": [
    "def cAthy(s: Scenario):\n",
    "    return ((1 - s.phi0) * s.b * 9.81 * units['m/s²'] * s.rhow).to('cm⁻¹')"
   ]
  },
  {
   "cell_type": "code",
   "execution_count": 15,
   "metadata": {},
   "outputs": [
    {
     "data": {
      "text/html": [
       "0.4014252 1/centimeter"
      ],
      "text/latex": [
       "$0.4014252\\ \\frac{1}{\\mathrm{centimeter}}$"
      ],
      "text/plain": [
       "0.4014252 <Unit('1 / centimeter')>"
      ]
     },
     "execution_count": 15,
     "metadata": {},
     "output_type": "execute_result"
    }
   ],
   "source": [
    "cAthy(Scenario(b=10 / units.kPa))"
   ]
  },
  {
   "cell_type": "code",
   "execution_count": 16,
   "metadata": {},
   "outputs": [],
   "source": [
    "def difpor(s: Scenario):\n",
    "    return s.beta * s.phi0**3 / ((s.phi0 - s.phiinf) * cAthy(s))"
   ]
  },
  {
   "cell_type": "code",
   "execution_count": 17,
   "metadata": {},
   "outputs": [
    {
     "data": {
      "text/html": [
       "0.18240095286257774 centimeter<sup>2</sup>/year"
      ],
      "text/latex": [
       "$0.18240095286257774\\ \\frac{\\mathrm{centimeter}^{2}}{\\mathrm{year}}$"
      ],
      "text/plain": [
       "0.18240095286257774 <Unit('centimeter ** 2 / year')>"
      ]
     },
     "execution_count": 17,
     "metadata": {},
     "output_type": "execute_result"
    }
   ],
   "source": [
    "difpor(s)"
   ]
  },
  {
   "cell_type": "code",
   "execution_count": 26,
   "metadata": {},
   "outputs": [],
   "source": [
    "import pint"
   ]
  },
  {
   "cell_type": "code",
   "execution_count": 27,
   "metadata": {},
   "outputs": [],
   "source": [
    "u = pint.UnitRegistry()"
   ]
  },
  {
   "cell_type": "code",
   "execution_count": 28,
   "metadata": {},
   "outputs": [
    {
     "data": {
      "text/html": [
       "year"
      ],
      "text/latex": [
       "$\\mathrm{year}$"
      ],
      "text/plain": [
       "<Unit('year')>"
      ]
     },
     "execution_count": 28,
     "metadata": {},
     "output_type": "execute_result"
    }
   ],
   "source": [
    "u.a"
   ]
  },
  {
   "cell_type": "code",
   "execution_count": 29,
   "metadata": {},
   "outputs": [
    {
     "data": {
      "text/html": [
       "molar"
      ],
      "text/latex": [
       "$\\mathrm{molar}$"
      ],
      "text/plain": [
       "<Unit('molar')>"
      ]
     },
     "execution_count": 29,
     "metadata": {},
     "output_type": "execute_result"
    }
   ],
   "source": [
    "u.M"
   ]
  },
  {
   "cell_type": "code",
   "execution_count": 30,
   "metadata": {},
   "outputs": [
    {
     "data": {
      "text/html": [
       "kilopascal"
      ],
      "text/latex": [
       "$\\mathrm{kilopascal}$"
      ],
      "text/plain": [
       "<Unit('kilopascal')>"
      ]
     },
     "execution_count": 30,
     "metadata": {},
     "output_type": "execute_result"
    }
   ],
   "source": [
    "u.kPa"
   ]
  },
  {
   "cell_type": "code",
   "execution_count": 33,
   "metadata": {},
   "outputs": [
    {
     "data": {
      "text/plain": [
       "1"
      ]
     },
     "execution_count": 33,
     "metadata": {},
     "output_type": "execute_result"
    }
   ],
   "source": [
    "u['1']"
   ]
  },
  {
   "cell_type": "code",
   "execution_count": 35,
   "metadata": {},
   "outputs": [
    {
     "data": {
      "text/html": [
       "dimensionless"
      ],
      "text/latex": [
       "$dimensionless$"
      ],
      "text/plain": [
       "<Unit('dimensionless')>"
      ]
     },
     "execution_count": 35,
     "metadata": {},
     "output_type": "execute_result"
    }
   ],
   "source": [
    "u.cm / u.cm"
   ]
  },
  {
   "cell_type": "code",
   "execution_count": 36,
   "metadata": {},
   "outputs": [
    {
     "data": {
      "text/html": [
       "dimensionless"
      ],
      "text/latex": [
       "$dimensionless$"
      ],
      "text/plain": [
       "<Unit('dimensionless')>"
      ]
     },
     "execution_count": 36,
     "metadata": {},
     "output_type": "execute_result"
    }
   ],
   "source": [
    "u.dimensionless"
   ]
  },
  {
   "cell_type": "code",
   "execution_count": 37,
   "metadata": {},
   "outputs": [
    {
     "data": {
      "text/html": [
       "millimolar"
      ],
      "text/latex": [
       "$\\mathrm{millimolar}$"
      ],
      "text/plain": [
       "<Unit('millimolar')>"
      ]
     },
     "execution_count": 37,
     "metadata": {},
     "output_type": "execute_result"
    }
   ],
   "source": [
    "u.mM"
   ]
  },
  {
   "cell_type": "code",
   "execution_count": 41,
   "metadata": {},
   "outputs": [
    {
     "data": {
      "text/html": [
       "0.003 molar"
      ],
      "text/latex": [
       "$0.003\\ \\mathrm{molar}$"
      ],
      "text/plain": [
       "0.003 <Unit('molar')>"
      ]
     },
     "execution_count": 41,
     "metadata": {},
     "output_type": "execute_result"
    }
   ],
   "source": [
    "(3 * u.mM).to('M')"
   ]
  },
  {
   "cell_type": "code",
   "execution_count": null,
   "metadata": {},
   "outputs": [],
   "source": []
  }
 ],
 "metadata": {
  "kernelspec": {
   "display_name": "Python 3 (ipykernel)",
   "language": "python",
   "name": "python3"
  },
  "language_info": {
   "codemirror_mode": {
    "name": "ipython",
    "version": 3
   },
   "file_extension": ".py",
   "mimetype": "text/x-python",
   "name": "python",
   "nbconvert_exporter": "python",
   "pygments_lexer": "ipython3",
   "version": "3.10.7"
  },
  "vscode": {
   "interpreter": {
    "hash": "5469c30ffd68b9be0ad345839c1e0bd07b58ad1af04ac2dcf77de8ab6607e301"
   }
  }
 },
 "nbformat": 4,
 "nbformat_minor": 4
}
